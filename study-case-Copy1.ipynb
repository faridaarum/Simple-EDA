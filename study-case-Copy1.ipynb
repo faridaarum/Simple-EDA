{
 "cells": [
  {
   "cell_type": "code",
   "execution_count": 1,
   "id": "0a9a0289",
   "metadata": {},
   "outputs": [],
   "source": [
    "#Library \n",
    "import pandas as pd\n",
    "import seaborn as sns\n",
    "import numpy as np \n",
    "import matplotlib.pyplot as plt\n",
    "from collections import Counter\n",
    "from datetime import datetime"
   ]
  },
  {
   "cell_type": "code",
   "execution_count": 2,
   "id": "a993b6b4",
   "metadata": {},
   "outputs": [
    {
     "name": "stdout",
     "output_type": "stream",
     "text": [
      "   user_id first_contact checkout_date  paid_date   channel      occupation  \\\n",
      "0      297      8/7/2022     8/17/2022  8/19/2022  referral          worker   \n",
      "1      197     8/30/2022     9/13/2022  10/1/2022   organic     job_seekers   \n",
      "2      259     8/27/2022     8/29/2022  9/10/2022   inbound     job_seekers   \n",
      "3      207     8/28/2022     9/16/2022  9/24/2022   organic          worker   \n",
      "4      155     8/31/2022      9/6/2022  9/13/2022  referral  fresh_graduate   \n",
      "\n",
      "       city  age  \n",
      "0   bandung   33  \n",
      "1   jakarta   23  \n",
      "2  semarang   29  \n",
      "3  semarang   22  \n",
      "4  semarang   22  \n"
     ]
    }
   ],
   "source": [
    "df = pd.read_csv(\"https://github.com/faridaarum/study-case/blob/bca6dac01392ea4ec10531432ebe2ee78993afc3/study_case.csv?raw=true\")\n",
    "print(df.head())"
   ]
  },
  {
   "cell_type": "code",
   "execution_count": 3,
   "id": "09ec9e71",
   "metadata": {},
   "outputs": [
    {
     "name": "stdout",
     "output_type": "stream",
     "text": [
      "<class 'pandas.core.frame.DataFrame'>\n",
      "RangeIndex: 100 entries, 0 to 99\n",
      "Data columns (total 8 columns):\n",
      " #   Column         Non-Null Count  Dtype \n",
      "---  ------         --------------  ----- \n",
      " 0   user_id        100 non-null    int64 \n",
      " 1   first_contact  100 non-null    object\n",
      " 2   checkout_date  100 non-null    object\n",
      " 3   paid_date      100 non-null    object\n",
      " 4   channel        100 non-null    object\n",
      " 5   occupation     100 non-null    object\n",
      " 6   city           100 non-null    object\n",
      " 7   age            100 non-null    int64 \n",
      "dtypes: int64(2), object(6)\n",
      "memory usage: 6.4+ KB\n",
      "\n",
      "Jumlah missing value per kolom:\n",
      " user_id          0\n",
      "first_contact    0\n",
      "checkout_date    0\n",
      "paid_date        0\n",
      "channel          0\n",
      "occupation       0\n",
      "city             0\n",
      "age              0\n",
      "dtype: int64\n"
     ]
    }
   ],
   "source": [
    "df.info()\n",
    "\n",
    "#print total missing value \n",
    "mv = df.isna().sum()\n",
    "print(\"\\nJumlah missing value per kolom:\\n\", mv)"
   ]
  },
  {
   "cell_type": "code",
   "execution_count": 4,
   "id": "b1e301d4",
   "metadata": {
    "scrolled": false
   },
   "outputs": [
    {
     "data": {
      "text/html": [
       "<div>\n",
       "<style scoped>\n",
       "    .dataframe tbody tr th:only-of-type {\n",
       "        vertical-align: middle;\n",
       "    }\n",
       "\n",
       "    .dataframe tbody tr th {\n",
       "        vertical-align: top;\n",
       "    }\n",
       "\n",
       "    .dataframe thead th {\n",
       "        text-align: right;\n",
       "    }\n",
       "</style>\n",
       "<table border=\"1\" class=\"dataframe\">\n",
       "  <thead>\n",
       "    <tr style=\"text-align: right;\">\n",
       "      <th></th>\n",
       "      <th>user_id</th>\n",
       "      <th>first_contact</th>\n",
       "      <th>checkout_date</th>\n",
       "      <th>paid_date</th>\n",
       "      <th>channel</th>\n",
       "      <th>occupation</th>\n",
       "      <th>city</th>\n",
       "      <th>age</th>\n",
       "    </tr>\n",
       "  </thead>\n",
       "  <tbody>\n",
       "    <tr>\n",
       "      <th>0</th>\n",
       "      <td>297</td>\n",
       "      <td>8/7/2022</td>\n",
       "      <td>8/17/2022</td>\n",
       "      <td>8/19/2022</td>\n",
       "      <td>referral</td>\n",
       "      <td>worker</td>\n",
       "      <td>bandung</td>\n",
       "      <td>33</td>\n",
       "    </tr>\n",
       "    <tr>\n",
       "      <th>1</th>\n",
       "      <td>197</td>\n",
       "      <td>8/30/2022</td>\n",
       "      <td>9/13/2022</td>\n",
       "      <td>10/1/2022</td>\n",
       "      <td>organic</td>\n",
       "      <td>job_seekers</td>\n",
       "      <td>jakarta</td>\n",
       "      <td>23</td>\n",
       "    </tr>\n",
       "    <tr>\n",
       "      <th>2</th>\n",
       "      <td>259</td>\n",
       "      <td>8/27/2022</td>\n",
       "      <td>8/29/2022</td>\n",
       "      <td>9/10/2022</td>\n",
       "      <td>inbound</td>\n",
       "      <td>job_seekers</td>\n",
       "      <td>semarang</td>\n",
       "      <td>29</td>\n",
       "    </tr>\n",
       "    <tr>\n",
       "      <th>3</th>\n",
       "      <td>207</td>\n",
       "      <td>8/28/2022</td>\n",
       "      <td>9/16/2022</td>\n",
       "      <td>9/24/2022</td>\n",
       "      <td>organic</td>\n",
       "      <td>worker</td>\n",
       "      <td>semarang</td>\n",
       "      <td>22</td>\n",
       "    </tr>\n",
       "    <tr>\n",
       "      <th>4</th>\n",
       "      <td>155</td>\n",
       "      <td>8/31/2022</td>\n",
       "      <td>9/6/2022</td>\n",
       "      <td>9/13/2022</td>\n",
       "      <td>referral</td>\n",
       "      <td>fresh_graduate</td>\n",
       "      <td>semarang</td>\n",
       "      <td>22</td>\n",
       "    </tr>\n",
       "    <tr>\n",
       "      <th>...</th>\n",
       "      <td>...</td>\n",
       "      <td>...</td>\n",
       "      <td>...</td>\n",
       "      <td>...</td>\n",
       "      <td>...</td>\n",
       "      <td>...</td>\n",
       "      <td>...</td>\n",
       "      <td>...</td>\n",
       "    </tr>\n",
       "    <tr>\n",
       "      <th>95</th>\n",
       "      <td>200</td>\n",
       "      <td>8/10/2022</td>\n",
       "      <td>8/27/2022</td>\n",
       "      <td>9/14/2022</td>\n",
       "      <td>inbound</td>\n",
       "      <td>job_seekers</td>\n",
       "      <td>surabaya</td>\n",
       "      <td>23</td>\n",
       "    </tr>\n",
       "    <tr>\n",
       "      <th>96</th>\n",
       "      <td>189</td>\n",
       "      <td>8/13/2022</td>\n",
       "      <td>8/19/2022</td>\n",
       "      <td>8/31/2022</td>\n",
       "      <td>organic</td>\n",
       "      <td>job_seekers</td>\n",
       "      <td>bandung</td>\n",
       "      <td>26</td>\n",
       "    </tr>\n",
       "    <tr>\n",
       "      <th>97</th>\n",
       "      <td>173</td>\n",
       "      <td>8/7/2022</td>\n",
       "      <td>8/21/2022</td>\n",
       "      <td>8/28/2022</td>\n",
       "      <td>organic</td>\n",
       "      <td>fresh_graduate</td>\n",
       "      <td>semarang</td>\n",
       "      <td>24</td>\n",
       "    </tr>\n",
       "    <tr>\n",
       "      <th>98</th>\n",
       "      <td>218</td>\n",
       "      <td>8/14/2022</td>\n",
       "      <td>8/23/2022</td>\n",
       "      <td>9/9/2022</td>\n",
       "      <td>digital_festival</td>\n",
       "      <td>worker</td>\n",
       "      <td>surabaya</td>\n",
       "      <td>34</td>\n",
       "    </tr>\n",
       "    <tr>\n",
       "      <th>99</th>\n",
       "      <td>131</td>\n",
       "      <td>8/29/2022</td>\n",
       "      <td>9/2/2022</td>\n",
       "      <td>9/16/2022</td>\n",
       "      <td>referral</td>\n",
       "      <td>fresh_graduate</td>\n",
       "      <td>bandung</td>\n",
       "      <td>23</td>\n",
       "    </tr>\n",
       "  </tbody>\n",
       "</table>\n",
       "<p>100 rows × 8 columns</p>\n",
       "</div>"
      ],
      "text/plain": [
       "    user_id first_contact checkout_date  paid_date           channel  \\\n",
       "0       297      8/7/2022     8/17/2022  8/19/2022          referral   \n",
       "1       197     8/30/2022     9/13/2022  10/1/2022           organic   \n",
       "2       259     8/27/2022     8/29/2022  9/10/2022           inbound   \n",
       "3       207     8/28/2022     9/16/2022  9/24/2022           organic   \n",
       "4       155     8/31/2022      9/6/2022  9/13/2022          referral   \n",
       "..      ...           ...           ...        ...               ...   \n",
       "95      200     8/10/2022     8/27/2022  9/14/2022           inbound   \n",
       "96      189     8/13/2022     8/19/2022  8/31/2022           organic   \n",
       "97      173      8/7/2022     8/21/2022  8/28/2022           organic   \n",
       "98      218     8/14/2022     8/23/2022   9/9/2022  digital_festival   \n",
       "99      131     8/29/2022      9/2/2022  9/16/2022          referral   \n",
       "\n",
       "        occupation      city  age  \n",
       "0           worker   bandung   33  \n",
       "1      job_seekers   jakarta   23  \n",
       "2      job_seekers  semarang   29  \n",
       "3           worker  semarang   22  \n",
       "4   fresh_graduate  semarang   22  \n",
       "..             ...       ...  ...  \n",
       "95     job_seekers  surabaya   23  \n",
       "96     job_seekers   bandung   26  \n",
       "97  fresh_graduate  semarang   24  \n",
       "98          worker  surabaya   34  \n",
       "99  fresh_graduate   bandung   23  \n",
       "\n",
       "[100 rows x 8 columns]"
      ]
     },
     "execution_count": 4,
     "metadata": {},
     "output_type": "execute_result"
    }
   ],
   "source": [
    "df"
   ]
  },
  {
   "cell_type": "code",
   "execution_count": 5,
   "id": "db0857d8",
   "metadata": {},
   "outputs": [
    {
     "name": "stdout",
     "output_type": "stream",
     "text": [
      "    user_id first_contact checkout_date  paid_date           channel  \\\n",
      "0       297      8/7/2022     8/17/2022  8/19/2022          referral   \n",
      "1       197     8/30/2022     9/13/2022  10/1/2022           organic   \n",
      "2       259     8/27/2022     8/29/2022  9/10/2022           inbound   \n",
      "3       207     8/28/2022     9/16/2022  9/24/2022           organic   \n",
      "4       155     8/31/2022      9/6/2022  9/13/2022          referral   \n",
      "..      ...           ...           ...        ...               ...   \n",
      "95      200     8/10/2022     8/27/2022  9/14/2022           inbound   \n",
      "96      189     8/13/2022     8/19/2022  8/31/2022           organic   \n",
      "97      173      8/7/2022     8/21/2022  8/28/2022           organic   \n",
      "98      218     8/14/2022     8/23/2022   9/9/2022  digital_festival   \n",
      "99      131     8/29/2022      9/2/2022  9/16/2022          referral   \n",
      "\n",
      "        occupation      city  age first_contact_formatted  \n",
      "0           worker   bandung   33              2022-08-07  \n",
      "1      job_seekers   jakarta   23              2022-08-30  \n",
      "2      job_seekers  semarang   29              2022-08-27  \n",
      "3           worker  semarang   22              2022-08-28  \n",
      "4   fresh_graduate  semarang   22              2022-08-31  \n",
      "..             ...       ...  ...                     ...  \n",
      "95     job_seekers  surabaya   23              2022-08-10  \n",
      "96     job_seekers   bandung   26              2022-08-13  \n",
      "97  fresh_graduate  semarang   24              2022-08-07  \n",
      "98          worker  surabaya   34              2022-08-14  \n",
      "99  fresh_graduate   bandung   23              2022-08-29  \n",
      "\n",
      "[100 rows x 9 columns]\n"
     ]
    }
   ],
   "source": [
    "df['first_contact_formatted'] = ''\n",
    "for index, row in df.iterrows():\n",
    "    date = datetime.strptime(row['first_contact'], \"%m/%d/%Y\")\n",
    "    date_formatted = date.strftime(\"%Y-%m-%d\")\n",
    "    df.at[index, 'first_contact_formatted'] = date_formatted\n",
    "\n",
    "print(df)\n",
    "\n"
   ]
  },
  {
   "cell_type": "code",
   "execution_count": 14,
   "id": "999722ea",
   "metadata": {
    "scrolled": true
   },
   "outputs": [
    {
     "name": "stdout",
     "output_type": "stream",
     "text": [
      "    user_id first_contact checkout_date  paid_date           channel  \\\n",
      "0       297      8/7/2022     8/17/2022  8/19/2022          referral   \n",
      "1       197     8/30/2022     9/13/2022  10/1/2022           organic   \n",
      "2       259     8/27/2022     8/29/2022  9/10/2022           inbound   \n",
      "3       207     8/28/2022     9/16/2022  9/24/2022           organic   \n",
      "4       155     8/31/2022      9/6/2022  9/13/2022          referral   \n",
      "..      ...           ...           ...        ...               ...   \n",
      "95      200     8/10/2022     8/27/2022  9/14/2022           inbound   \n",
      "96      189     8/13/2022     8/19/2022  8/31/2022           organic   \n",
      "97      173      8/7/2022     8/21/2022  8/28/2022           organic   \n",
      "98      218     8/14/2022     8/23/2022   9/9/2022  digital_festival   \n",
      "99      131     8/29/2022      9/2/2022  9/16/2022          referral   \n",
      "\n",
      "        occupation      city  age first_contact_formatted  \\\n",
      "0           worker   bandung   33              2022-08-07   \n",
      "1      job_seekers   jakarta   23              2022-08-30   \n",
      "2      job_seekers  semarang   29              2022-08-27   \n",
      "3           worker  semarang   22              2022-08-28   \n",
      "4   fresh_graduate  semarang   22              2022-08-31   \n",
      "..             ...       ...  ...                     ...   \n",
      "95     job_seekers  surabaya   23              2022-08-10   \n",
      "96     job_seekers   bandung   26              2022-08-13   \n",
      "97  fresh_graduate  semarang   24              2022-08-07   \n",
      "98          worker  surabaya   34              2022-08-14   \n",
      "99  fresh_graduate   bandung   23              2022-08-29   \n",
      "\n",
      "   checkout_date_formatted paid_date_formatted  \n",
      "0               2022-08-17          2022-08-19  \n",
      "1               2022-09-13          2022-10-01  \n",
      "2               2022-08-29          2022-09-10  \n",
      "3               2022-09-16          2022-09-24  \n",
      "4               2022-09-06          2022-09-13  \n",
      "..                     ...                 ...  \n",
      "95              2022-08-27          2022-09-14  \n",
      "96              2022-08-19          2022-08-31  \n",
      "97              2022-08-21          2022-08-28  \n",
      "98              2022-08-23          2022-09-09  \n",
      "99              2022-09-02          2022-09-16  \n",
      "\n",
      "[100 rows x 11 columns]\n"
     ]
    }
   ],
   "source": [
    "df['checkout_date_formatted'] = ''\n",
    "for index, row in df.iterrows():\n",
    "    date = datetime.strptime(row['checkout_date'], \"%m/%d/%Y\")\n",
    "    date_formatted = date.strftime(\"%Y-%m-%d\")\n",
    "    df.at[index, 'checkout_date_formatted'] = date_formatted\n",
    "\n",
    "df['paid_date_formatted'] = ''\n",
    "for index, row in df.iterrows():\n",
    "    date = datetime.strptime(row['paid_date'], \"%m/%d/%Y\")\n",
    "    date_formatted = date.strftime(\"%Y-%m-%d\")\n",
    "    df.at[index, 'paid_date_formatted'] = date_formatted\n",
    "    \n",
    "print(df)"
   ]
  },
  {
   "cell_type": "code",
   "execution_count": 15,
   "id": "d4376fe0",
   "metadata": {},
   "outputs": [],
   "source": [
    "df = df.drop(columns=['first_contact', 'checkout_date', 'paid_date'], axis = 1)"
   ]
  },
  {
   "cell_type": "code",
   "execution_count": 16,
   "id": "f0e11a42",
   "metadata": {},
   "outputs": [
    {
     "data": {
      "text/html": [
       "<div>\n",
       "<style scoped>\n",
       "    .dataframe tbody tr th:only-of-type {\n",
       "        vertical-align: middle;\n",
       "    }\n",
       "\n",
       "    .dataframe tbody tr th {\n",
       "        vertical-align: top;\n",
       "    }\n",
       "\n",
       "    .dataframe thead th {\n",
       "        text-align: right;\n",
       "    }\n",
       "</style>\n",
       "<table border=\"1\" class=\"dataframe\">\n",
       "  <thead>\n",
       "    <tr style=\"text-align: right;\">\n",
       "      <th></th>\n",
       "      <th>user_id</th>\n",
       "      <th>channel</th>\n",
       "      <th>occupation</th>\n",
       "      <th>city</th>\n",
       "      <th>age</th>\n",
       "      <th>first_contact_formatted</th>\n",
       "      <th>checkout_date_formatted</th>\n",
       "      <th>paid_date_formatted</th>\n",
       "    </tr>\n",
       "  </thead>\n",
       "  <tbody>\n",
       "    <tr>\n",
       "      <th>0</th>\n",
       "      <td>297</td>\n",
       "      <td>referral</td>\n",
       "      <td>worker</td>\n",
       "      <td>bandung</td>\n",
       "      <td>33</td>\n",
       "      <td>2022-08-07</td>\n",
       "      <td>2022-08-17</td>\n",
       "      <td>2022-08-19</td>\n",
       "    </tr>\n",
       "    <tr>\n",
       "      <th>1</th>\n",
       "      <td>197</td>\n",
       "      <td>organic</td>\n",
       "      <td>job_seekers</td>\n",
       "      <td>jakarta</td>\n",
       "      <td>23</td>\n",
       "      <td>2022-08-30</td>\n",
       "      <td>2022-09-13</td>\n",
       "      <td>2022-10-01</td>\n",
       "    </tr>\n",
       "    <tr>\n",
       "      <th>2</th>\n",
       "      <td>259</td>\n",
       "      <td>inbound</td>\n",
       "      <td>job_seekers</td>\n",
       "      <td>semarang</td>\n",
       "      <td>29</td>\n",
       "      <td>2022-08-27</td>\n",
       "      <td>2022-08-29</td>\n",
       "      <td>2022-09-10</td>\n",
       "    </tr>\n",
       "    <tr>\n",
       "      <th>3</th>\n",
       "      <td>207</td>\n",
       "      <td>organic</td>\n",
       "      <td>worker</td>\n",
       "      <td>semarang</td>\n",
       "      <td>22</td>\n",
       "      <td>2022-08-28</td>\n",
       "      <td>2022-09-16</td>\n",
       "      <td>2022-09-24</td>\n",
       "    </tr>\n",
       "    <tr>\n",
       "      <th>4</th>\n",
       "      <td>155</td>\n",
       "      <td>referral</td>\n",
       "      <td>fresh_graduate</td>\n",
       "      <td>semarang</td>\n",
       "      <td>22</td>\n",
       "      <td>2022-08-31</td>\n",
       "      <td>2022-09-06</td>\n",
       "      <td>2022-09-13</td>\n",
       "    </tr>\n",
       "    <tr>\n",
       "      <th>...</th>\n",
       "      <td>...</td>\n",
       "      <td>...</td>\n",
       "      <td>...</td>\n",
       "      <td>...</td>\n",
       "      <td>...</td>\n",
       "      <td>...</td>\n",
       "      <td>...</td>\n",
       "      <td>...</td>\n",
       "    </tr>\n",
       "    <tr>\n",
       "      <th>95</th>\n",
       "      <td>200</td>\n",
       "      <td>inbound</td>\n",
       "      <td>job_seekers</td>\n",
       "      <td>surabaya</td>\n",
       "      <td>23</td>\n",
       "      <td>2022-08-10</td>\n",
       "      <td>2022-08-27</td>\n",
       "      <td>2022-09-14</td>\n",
       "    </tr>\n",
       "    <tr>\n",
       "      <th>96</th>\n",
       "      <td>189</td>\n",
       "      <td>organic</td>\n",
       "      <td>job_seekers</td>\n",
       "      <td>bandung</td>\n",
       "      <td>26</td>\n",
       "      <td>2022-08-13</td>\n",
       "      <td>2022-08-19</td>\n",
       "      <td>2022-08-31</td>\n",
       "    </tr>\n",
       "    <tr>\n",
       "      <th>97</th>\n",
       "      <td>173</td>\n",
       "      <td>organic</td>\n",
       "      <td>fresh_graduate</td>\n",
       "      <td>semarang</td>\n",
       "      <td>24</td>\n",
       "      <td>2022-08-07</td>\n",
       "      <td>2022-08-21</td>\n",
       "      <td>2022-08-28</td>\n",
       "    </tr>\n",
       "    <tr>\n",
       "      <th>98</th>\n",
       "      <td>218</td>\n",
       "      <td>digital_festival</td>\n",
       "      <td>worker</td>\n",
       "      <td>surabaya</td>\n",
       "      <td>34</td>\n",
       "      <td>2022-08-14</td>\n",
       "      <td>2022-08-23</td>\n",
       "      <td>2022-09-09</td>\n",
       "    </tr>\n",
       "    <tr>\n",
       "      <th>99</th>\n",
       "      <td>131</td>\n",
       "      <td>referral</td>\n",
       "      <td>fresh_graduate</td>\n",
       "      <td>bandung</td>\n",
       "      <td>23</td>\n",
       "      <td>2022-08-29</td>\n",
       "      <td>2022-09-02</td>\n",
       "      <td>2022-09-16</td>\n",
       "    </tr>\n",
       "  </tbody>\n",
       "</table>\n",
       "<p>100 rows × 8 columns</p>\n",
       "</div>"
      ],
      "text/plain": [
       "    user_id           channel      occupation      city  age  \\\n",
       "0       297          referral          worker   bandung   33   \n",
       "1       197           organic     job_seekers   jakarta   23   \n",
       "2       259           inbound     job_seekers  semarang   29   \n",
       "3       207           organic          worker  semarang   22   \n",
       "4       155          referral  fresh_graduate  semarang   22   \n",
       "..      ...               ...             ...       ...  ...   \n",
       "95      200           inbound     job_seekers  surabaya   23   \n",
       "96      189           organic     job_seekers   bandung   26   \n",
       "97      173           organic  fresh_graduate  semarang   24   \n",
       "98      218  digital_festival          worker  surabaya   34   \n",
       "99      131          referral  fresh_graduate   bandung   23   \n",
       "\n",
       "   first_contact_formatted checkout_date_formatted paid_date_formatted  \n",
       "0               2022-08-07              2022-08-17          2022-08-19  \n",
       "1               2022-08-30              2022-09-13          2022-10-01  \n",
       "2               2022-08-27              2022-08-29          2022-09-10  \n",
       "3               2022-08-28              2022-09-16          2022-09-24  \n",
       "4               2022-08-31              2022-09-06          2022-09-13  \n",
       "..                     ...                     ...                 ...  \n",
       "95              2022-08-10              2022-08-27          2022-09-14  \n",
       "96              2022-08-13              2022-08-19          2022-08-31  \n",
       "97              2022-08-07              2022-08-21          2022-08-28  \n",
       "98              2022-08-14              2022-08-23          2022-09-09  \n",
       "99              2022-08-29              2022-09-02          2022-09-16  \n",
       "\n",
       "[100 rows x 8 columns]"
      ]
     },
     "execution_count": 16,
     "metadata": {},
     "output_type": "execute_result"
    }
   ],
   "source": [
    "df"
   ]
  },
  {
   "cell_type": "code",
   "execution_count": 19,
   "id": "ab757840",
   "metadata": {},
   "outputs": [
    {
     "data": {
      "text/plain": [
       "user_id                     int64\n",
       "channel                    object\n",
       "occupation                 object\n",
       "city                       object\n",
       "age                         int64\n",
       "first_contact_formatted    object\n",
       "checkout_date_formatted    object\n",
       "paid_date_formatted        object\n",
       "dtype: object"
      ]
     },
     "execution_count": 19,
     "metadata": {},
     "output_type": "execute_result"
    }
   ],
   "source": [
    "df.dtypes"
   ]
  },
  {
   "cell_type": "code",
   "execution_count": 8,
   "id": "3b1d442d",
   "metadata": {},
   "outputs": [
    {
     "name": "stdout",
     "output_type": "stream",
     "text": [
      "age    4.0\n",
      "dtype: float64\n"
     ]
    }
   ],
   "source": [
    "#Analisis demografis \n",
    "#1. berdasarkan sebaran umur \n",
    "Q1 = df[[\"age\"]].quantile(0.25)\n",
    "Q2 = df[[\"age\"]].quantile(0.5)\n",
    "Q3 = df[[\"age\"]].quantile(0.75)\n",
    "#hitung interquantile range \n",
    "IQR = Q3 - Q1\n",
    "print(IQR)"
   ]
  },
  {
   "cell_type": "code",
   "execution_count": 9,
   "id": "fec3a25c",
   "metadata": {},
   "outputs": [
    {
     "data": {
      "text/plain": [
       "count    100.000000\n",
       "mean      24.160000\n",
       "std        3.506761\n",
       "min       18.000000\n",
       "25%       22.000000\n",
       "50%       24.000000\n",
       "75%       26.000000\n",
       "max       34.000000\n",
       "Name: age, dtype: float64"
      ]
     },
     "execution_count": 9,
     "metadata": {},
     "output_type": "execute_result"
    }
   ],
   "source": [
    "df[\"age\"].describe()"
   ]
  },
  {
   "cell_type": "code",
   "execution_count": 10,
   "id": "3412980b",
   "metadata": {},
   "outputs": [],
   "source": [
    "quantity = np.arange(len(df[\"age\"]))"
   ]
  },
  {
   "cell_type": "code",
   "execution_count": 31,
   "id": "05939f60",
   "metadata": {
    "scrolled": false
   },
   "outputs": [
    {
     "data": {
      "image/png": "[encoded data removed]",
      "text/plain": [
       "<Figure size 648x504 with 1 Axes>"
      ]
     },
     "metadata": {
      "needs_background": "light"
     },
     "output_type": "display_data"
    }
   ],
   "source": [
    "plt.figure(figsize=(9,7))\n",
    "plt.scatter(df['age'], quantity,  marker='+', color='red')\n",
    "plt.title(\"Age Distribution of User\", fontsize = 15, color= \"blue\")\n",
    "plt.xlabel('Umur', fontsize = 12)\n",
    "plt.ylabel('Jumlah', fontsize = 12)\n",
    "plt.xlim(xmin=17, xmax=40)\n",
    "plt.ylim(ymin=0, ymax=100)\n",
    "plt.show()"
   ]
  },
  {
   "cell_type": "code",
   "execution_count": 27,
   "id": "ea030027",
   "metadata": {},
   "outputs": [
    {
     "name": "stdout",
     "output_type": "stream",
     "text": [
      "       Channel Name  Total\n",
      "0           inbound     28\n",
      "1  digital_festival     27\n",
      "2          referral     23\n",
      "3           organic     22\n"
     ]
    },
    {
     "data": {
      "image/png": "[encoded data removed]",
      "text/plain": [
       "<Figure size 432x288 with 1 Axes>"
      ]
     },
     "metadata": {
      "needs_background": "light"
     },
     "output_type": "display_data"
    }
   ],
   "source": [
    "#2. berdasarkan channel\n",
    "\n",
    "import collections\n",
    "counter = collections.Counter(df.channel)\n",
    "top_2_channel = counter.most_common()\n",
    "cols = ['Channel Name', \"Total\"]\n",
    "dframe = pd.DataFrame(top_2_channel, columns = cols)\n",
    "print(dframe)\n",
    "\n",
    "\n",
    "arr_top_2_channel = np.array(dframe)\n",
    "\n",
    "\n",
    "plt.figure()\n",
    "plt.title(\"Total Jumlah Channel\", fontsize= 15)\n",
    "plt.hist(df['channel'],color = \"green\", stacked  = True)\n",
    "plt.xlabel('Channel', fontsize = 12)\n",
    "plt.ylabel('Number of Customers', fontsize = 12)\n",
    "plt.show()\n",
    "\n",
    "\n",
    "\n",
    "\n"
   ]
  },
  {
   "cell_type": "code",
   "execution_count": 28,
   "id": "daaba8e1",
   "metadata": {},
   "outputs": [
    {
     "name": "stdout",
     "output_type": "stream",
     "text": [
      "Counter({'surabaya': 29, 'bandung': 27, 'jakarta': 22, 'semarang': 22})\n"
     ]
    }
   ],
   "source": [
    "#berdasarkan kota \n",
    "\n",
    "import collections\n",
    "total_cust_per_city = collections.Counter(df.city)\n",
    "temp_array_city = np.array(total_cust_per_city)\n",
    "print(temp_array_city)"
   ]
  },
  {
   "cell_type": "code",
   "execution_count": 33,
   "id": "55b591c0",
   "metadata": {},
   "outputs": [
    {
     "name": "stdout",
     "output_type": "stream",
     "text": [
      "[('surabaya', 29), ('bandung', 27), ('jakarta', 22), ('semarang', 22)]\n"
     ]
    },
    {
     "data": {
      "image/png": "[encoded data removed]",
      "text/plain": [
       "<Figure size 432x432 with 1 Axes>"
      ]
     },
     "metadata": {},
     "output_type": "display_data"
    }
   ],
   "source": [
    "data = {'surabaya': 29, 'bandung': 27, 'jakarta': 22, 'semarang': 22}\n",
    "nilai = [(key,value) for key,value in data.items()]\n",
    "print(nilai)\n",
    "\n",
    "labels, values = zip(*nilai)\n",
    "plt.figure(figsize=(6,6))\n",
    "plt.pie(values, labels= labels ,autopct='%1.2f%%')\n",
    "plt.title(' User Per City', loc='center', pad=30, fontsize=15, color='blue')\n",
    "plt.show()\n"
   ]
  },
  {
   "cell_type": "code",
   "execution_count": null,
   "id": "5ee529c9",
   "metadata": {},
   "outputs": [],
   "source": []
  },
  {
   "cell_type": "code",
   "execution_count": null,
   "id": "b1d791fd",
   "metadata": {},
   "outputs": [],
   "source": []
  }
 ],
 "metadata": {
  "kernelspec": {
   "display_name": "Python 3 (ipykernel)",
   "language": "python",
   "name": "python3"
  },
  "language_info": {
   "codemirror_mode": {
    "name": "ipython",
    "version": 3
   },
   "file_extension": ".py",
   "mimetype": "text/x-python",
   "name": "python",
   "nbconvert_exporter": "python",
   "pygments_lexer": "ipython3",
   "version": "3.9.12"
  }
 },
 "nbformat": 4,
 "nbformat_minor": 5
}
